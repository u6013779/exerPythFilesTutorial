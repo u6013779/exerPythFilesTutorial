{
 "cells": [
  {
   "cell_type": "code",
   "execution_count": 1,
   "id": "d6d4f52f",
   "metadata": {},
   "outputs": [],
   "source": [
    "#File Objects"
   ]
  },
  {
   "cell_type": "code",
   "execution_count": 19,
   "id": "8006ac72",
   "metadata": {},
   "outputs": [],
   "source": [
    "f = open(\"Test.txt\", \"r\")"
   ]
  },
  {
   "cell_type": "code",
   "execution_count": 20,
   "id": "fddeb369",
   "metadata": {},
   "outputs": [],
   "source": [
    "with open(\"Test.txt\", \"r\") as f:\n",
    "    pass"
   ]
  },
  {
   "cell_type": "code",
   "execution_count": 21,
   "id": "74e02f03",
   "metadata": {},
   "outputs": [],
   "source": [
    "f = open(\"Test.txt\", \"w\")"
   ]
  },
  {
   "cell_type": "code",
   "execution_count": 22,
   "id": "ac3abb33",
   "metadata": {},
   "outputs": [],
   "source": [
    "f = open(\"Test.txt\", \"a\")"
   ]
  },
  {
   "cell_type": "code",
   "execution_count": 23,
   "id": "9c1d40c1",
   "metadata": {},
   "outputs": [
    {
     "name": "stdout",
     "output_type": "stream",
     "text": [
      "Test.txt\n"
     ]
    }
   ],
   "source": [
    "print(f.name)"
   ]
  },
  {
   "cell_type": "code",
   "execution_count": 24,
   "id": "91fb6a9d",
   "metadata": {},
   "outputs": [
    {
     "name": "stdout",
     "output_type": "stream",
     "text": [
      "a\n"
     ]
    }
   ],
   "source": [
    "print(f.mode)"
   ]
  },
  {
   "cell_type": "code",
   "execution_count": 10,
   "id": "3637da24",
   "metadata": {},
   "outputs": [],
   "source": [
    "f.close()"
   ]
  },
  {
   "cell_type": "code",
   "execution_count": 25,
   "id": "2872531d",
   "metadata": {},
   "outputs": [],
   "source": [
    "f = open(\"Test.txt\", \"r\")"
   ]
  },
  {
   "cell_type": "code",
   "execution_count": 30,
   "id": "1b2c09ca",
   "metadata": {},
   "outputs": [
    {
     "name": "stdout",
     "output_type": "stream",
     "text": [
      "1) This is a test file!\n",
      "2) With multiple lines of data....\n",
      "3) Third line\n",
      "4) Fourth line\n",
      "5) Fifth line\n",
      "6) Sixth line\n",
      "7) Seventh line\n",
      "8) Eighth line\n",
      "9) Ninth line\n",
      "10) Tenth line\n"
     ]
    }
   ],
   "source": [
    "with open(\"Test.txt\", \"r\") as f:\n",
    "    f_contents = f.read()\n",
    "    print(f_contents)"
   ]
  },
  {
   "cell_type": "code",
   "execution_count": 29,
   "id": "0ee2e6e1",
   "metadata": {},
   "outputs": [
    {
     "name": "stdout",
     "output_type": "stream",
     "text": [
      "['1) This is a test file!\\n', '2) With multiple lines of data....\\n', '3) Third line\\n', '4) Fourth line\\n', '5) Fifth line\\n', '6) Sixth line\\n', '7) Seventh line\\n', '8) Eighth line\\n', '9) Ninth line\\n', '10) Tenth line']\n"
     ]
    }
   ],
   "source": [
    "with open(\"Test.txt\", \"r\") as f:\n",
    "    f_contents = f.readlines()\n",
    "    print(f_contents)"
   ]
  },
  {
   "cell_type": "code",
   "execution_count": 31,
   "id": "7b7c572f",
   "metadata": {},
   "outputs": [
    {
     "name": "stdout",
     "output_type": "stream",
     "text": [
      "1) This is a test file!\n",
      "\n"
     ]
    }
   ],
   "source": [
    "with open(\"Test.txt\", \"r\") as f:\n",
    "    f_contents = f.readline()\n",
    "    print(f_contents)"
   ]
  },
  {
   "cell_type": "code",
   "execution_count": 34,
   "id": "e495fb52",
   "metadata": {},
   "outputs": [
    {
     "ename": "ValueError",
     "evalue": "I/O operation on closed file.",
     "output_type": "error",
     "traceback": [
      "\u001b[0;31m---------------------------------------------------------------------------\u001b[0m",
      "\u001b[0;31mValueError\u001b[0m                                Traceback (most recent call last)",
      "\u001b[0;32m<ipython-input-34-45dfda65414f>\u001b[0m in \u001b[0;36m<module>\u001b[0;34m\u001b[0m\n\u001b[0;32m----> 1\u001b[0;31m \u001b[0;32mfor\u001b[0m \u001b[0mline\u001b[0m \u001b[0;32min\u001b[0m \u001b[0mf\u001b[0m\u001b[0;34m:\u001b[0m\u001b[0;34m\u001b[0m\u001b[0;34m\u001b[0m\u001b[0m\n\u001b[0m\u001b[1;32m      2\u001b[0m     \u001b[0mprint\u001b[0m\u001b[0;34m(\u001b[0m\u001b[0mline\u001b[0m\u001b[0;34m,\u001b[0m\u001b[0mend\u001b[0m\u001b[0;34m=\u001b[0m\u001b[0;34m\"\"\u001b[0m\u001b[0;34m)\u001b[0m\u001b[0;34m\u001b[0m\u001b[0;34m\u001b[0m\u001b[0m\n",
      "\u001b[0;31mValueError\u001b[0m: I/O operation on closed file."
     ]
    }
   ],
   "source": [
    "for line in f:\n",
    "    print(line,end=\"\")"
   ]
  },
  {
   "cell_type": "code",
   "execution_count": 35,
   "id": "83ebc0f6",
   "metadata": {},
   "outputs": [
    {
     "name": "stdout",
     "output_type": "stream",
     "text": [
      "1) This is a test file!\n",
      "2) With multiple lines of data....\n",
      "3) Third line\n",
      "4) Fourth line\n",
      "5) Fifth line\n",
      "6) Sixth line\n",
      "7) Seventh line\n",
      "8) Eighth line\n",
      "9) Ninth line\n",
      "10) Tenth line"
     ]
    }
   ],
   "source": [
    "with open(\"Test.txt\", \"r\") as f:\n",
    "    for line in f:\n",
    "        print(line, end=\"\")"
   ]
  },
  {
   "cell_type": "code",
   "execution_count": 37,
   "id": "a9c93e01",
   "metadata": {},
   "outputs": [
    {
     "name": "stdout",
     "output_type": "stream",
     "text": [
      "1) This is a test file!\n",
      "2) With multiple lines of data....\n",
      "3) Third line\n",
      "4) Fourth line\n",
      "5) Fifth lin\n",
      "e\n",
      "\n"
     ]
    }
   ],
   "source": [
    "with open(\"Test.txt\", \"r\") as f:\n",
    "    f_contents = f.read(100)\n",
    "    print(f_contents)"
   ]
  },
  {
   "cell_type": "code",
   "execution_count": 38,
   "id": "423a24b9",
   "metadata": {},
   "outputs": [
    {
     "name": "stdout",
     "output_type": "stream",
     "text": [
      "1) This is a test file!\n",
      "2) With multiple lines of data....\n",
      "3) Third line\n",
      "4) Fourth line\n",
      "5) Fifth line\n",
      "6) Sixth line\n",
      "7) Seventh line\n",
      "8) Eighth line\n",
      "9) Ninth line\n",
      "10) Tenth line"
     ]
    }
   ],
   "source": [
    "with open(\"Test.txt\", \"r\") as f:\n",
    "    f_contents = f.readline()\n",
    "    print(f_contents)"
   ]
  },
  {
   "cell_type": "code",
   "execution_count": 39,
   "id": "ca584be7",
   "metadata": {},
   "outputs": [
    {
     "name": "stdout",
     "output_type": "stream",
     "text": [
      "1) This is a test file!\n",
      "2) With multiple lines of data....\n",
      "3) Third line\n",
      "4) Fourth line\n",
      "5) Fifth line\n",
      "6) Sixth line\n",
      "7) Seventh line\n",
      "8) Eighth line\n",
      "9) Ninth line\n",
      "10) Tenth line"
     ]
    }
   ],
   "source": [
    "with open(\"Test.txt\", \"r\") as f:\n",
    "    size_to_read = 100\n",
    "    f_contents = f.read(size_to_read)\n",
    "    while len(f_contents) > 0:\n",
    "        print(f_contents, end=\"\")\n",
    "        f_contents = f.read(size_to_read)\n",
    "    \n"
   ]
  },
  {
   "cell_type": "code",
   "execution_count": 41,
   "id": "811b16fb",
   "metadata": {},
   "outputs": [
    {
     "name": "stdout",
     "output_type": "stream",
     "text": [
      "1) This is* a test fi*le!\n",
      "2) Wit*h multiple* lines of *data....\n",
      "3*) Third li*ne\n",
      "4) Four*th line\n",
      "5)* Fifth lin*e\n",
      "6) Sixth* line\n",
      "7) S*eventh lin*e\n",
      "8) Eight*h line\n",
      "9) *Ninth line*\n",
      "10) Tenth* line*"
     ]
    }
   ],
   "source": [
    "with open(\"Test.txt\", \"r\") as f:\n",
    "    size_to_read = 10\n",
    "    f_contents = f.read(size_to_read)\n",
    "    while len(f_contents) > 0:\n",
    "        print(f_contents, end=\"*\")\n",
    "        f_contents = f.read(size_to_read)"
   ]
  },
  {
   "cell_type": "code",
   "execution_count": 45,
   "id": "6c40538b",
   "metadata": {},
   "outputs": [
    {
     "name": "stdout",
     "output_type": "stream",
     "text": [
      "10\n"
     ]
    }
   ],
   "source": [
    "with open(\"Test.txt\", \"r\") as f:\n",
    "    size_to_read = 10\n",
    "    f_contents = f.read(size_to_read)\n",
    "    print(f.tell())\n",
    "    "
   ]
  },
  {
   "cell_type": "code",
   "execution_count": 44,
   "id": "4b52640b",
   "metadata": {},
   "outputs": [
    {
     "name": "stdout",
     "output_type": "stream",
     "text": [
      "1) This is a test fi\n"
     ]
    }
   ],
   "source": [
    "with open(\"Test.txt\", \"r\") as f:\n",
    "    size_to_read = 10\n",
    "    \n",
    "    f_contents = f.read(size_to_read)\n",
    "    print(f_contents,end=\"\")\n",
    "    \n",
    "    f_contents = f.read(size_to_read)\n",
    "    print(f_contents)\n",
    "    \n"
   ]
  },
  {
   "cell_type": "code",
   "execution_count": 46,
   "id": "5f79a5cd",
   "metadata": {},
   "outputs": [
    {
     "name": "stdout",
     "output_type": "stream",
     "text": [
      "1) This is"
     ]
    }
   ],
   "source": [
    "with open(\"Test.txt\", \"r\") as f:\n",
    "    size_to_read = 10\n",
    "    \n",
    "    f_contents = f.read(size_to_read)\n",
    "    print(f_contents,end=\"\")\n",
    "    f.seek(0)\n"
   ]
  },
  {
   "cell_type": "code",
   "execution_count": 47,
   "id": "9d1c998c",
   "metadata": {},
   "outputs": [
    {
     "ename": "UnsupportedOperation",
     "evalue": "not writable",
     "output_type": "error",
     "traceback": [
      "\u001b[0;31m---------------------------------------------------------------------------\u001b[0m",
      "\u001b[0;31mUnsupportedOperation\u001b[0m                      Traceback (most recent call last)",
      "\u001b[0;32m<ipython-input-47-d438bf79b17a>\u001b[0m in \u001b[0;36m<module>\u001b[0;34m\u001b[0m\n\u001b[1;32m      1\u001b[0m \u001b[0;32mwith\u001b[0m \u001b[0mopen\u001b[0m\u001b[0;34m(\u001b[0m\u001b[0;34m\"Test.txt\"\u001b[0m\u001b[0;34m,\u001b[0m \u001b[0;34m\"r\"\u001b[0m\u001b[0;34m)\u001b[0m \u001b[0;32mas\u001b[0m \u001b[0mf\u001b[0m\u001b[0;34m:\u001b[0m\u001b[0;34m\u001b[0m\u001b[0;34m\u001b[0m\u001b[0m\n\u001b[0;32m----> 2\u001b[0;31m     \u001b[0mf\u001b[0m\u001b[0;34m.\u001b[0m\u001b[0mwrite\u001b[0m\u001b[0;34m(\u001b[0m\u001b[0;34m\"Test\"\u001b[0m\u001b[0;34m)\u001b[0m\u001b[0;34m\u001b[0m\u001b[0;34m\u001b[0m\u001b[0m\n\u001b[0m",
      "\u001b[0;31mUnsupportedOperation\u001b[0m: not writable"
     ]
    }
   ],
   "source": [
    "with open(\"Test.txt\", \"r\") as f:\n",
    "    f.write(\"Test\")"
   ]
  },
  {
   "cell_type": "code",
   "execution_count": 51,
   "id": "e6e7ac76",
   "metadata": {},
   "outputs": [],
   "source": [
    "with open(\"Test2.txt\",\"w\") as f:\n",
    "    pass"
   ]
  },
  {
   "cell_type": "code",
   "execution_count": 52,
   "id": "23d846b9",
   "metadata": {},
   "outputs": [],
   "source": [
    "with open(\"Test2.txt\",\"w\") as f:\n",
    "    f.write(\"Test\")"
   ]
  },
  {
   "cell_type": "code",
   "execution_count": 55,
   "id": "53763e88",
   "metadata": {},
   "outputs": [],
   "source": [
    "with open(\"Test2.txt\",\"w\") as f:\n",
    "    f.write(\"Test\")\n",
    "    f.write(\"Test\")"
   ]
  },
  {
   "cell_type": "code",
   "execution_count": 56,
   "id": "4e6ce5e1",
   "metadata": {},
   "outputs": [],
   "source": [
    "with open(\"Test2.txt\",\"w\") as f:\n",
    "    f.write(\"Test\")\n",
    "    f.seek(0)\n",
    "    f.write('R')"
   ]
  },
  {
   "cell_type": "code",
   "execution_count": 57,
   "id": "4c57b1a7",
   "metadata": {},
   "outputs": [],
   "source": [
    "with open(\"test.txt\", \"r\") as rf:\n",
    "    with open(\"test_copy.txt\", \"w\") as wf:\n",
    "        for line in rf:\n",
    "            wf.write(line)"
   ]
  },
  {
   "cell_type": "code",
   "execution_count": null,
   "id": "28317210",
   "metadata": {},
   "outputs": [],
   "source": [
    "with open(\"test.txt\", \"r\") as rf:\n",
    "    with open(\"test_copy.txt\", \"w\") as wf:\n",
    "        for line in rf:\n",
    "            wf.write(line)"
   ]
  },
  {
   "cell_type": "code",
   "execution_count": 58,
   "id": "7c6b2b41",
   "metadata": {},
   "outputs": [
    {
     "ename": "UnicodeDecodeError",
     "evalue": "'utf-8' codec can't decode byte 0xff in position 0: invalid start byte",
     "output_type": "error",
     "traceback": [
      "\u001b[0;31m---------------------------------------------------------------------------\u001b[0m",
      "\u001b[0;31mUnicodeDecodeError\u001b[0m                        Traceback (most recent call last)",
      "\u001b[0;32m<ipython-input-58-199eac19a9e3>\u001b[0m in \u001b[0;36m<module>\u001b[0;34m\u001b[0m\n\u001b[1;32m      1\u001b[0m \u001b[0;32mwith\u001b[0m \u001b[0mopen\u001b[0m\u001b[0;34m(\u001b[0m\u001b[0;34m\"F5B7FC92-2E94-43ED-BBC7-984623249946.jpeg\"\u001b[0m\u001b[0;34m,\u001b[0m \u001b[0;34m\"r\"\u001b[0m\u001b[0;34m)\u001b[0m \u001b[0;32mas\u001b[0m \u001b[0mrf\u001b[0m\u001b[0;34m:\u001b[0m\u001b[0;34m\u001b[0m\u001b[0;34m\u001b[0m\u001b[0m\n\u001b[1;32m      2\u001b[0m     \u001b[0;32mwith\u001b[0m \u001b[0mopen\u001b[0m\u001b[0;34m(\u001b[0m\u001b[0;34m\"F5B7FC92-2E94-43ED-BBC7-984623249946_copy.jpeg\"\u001b[0m\u001b[0;34m,\u001b[0m \u001b[0;34m\"w\"\u001b[0m\u001b[0;34m)\u001b[0m \u001b[0;32mas\u001b[0m \u001b[0mwf\u001b[0m\u001b[0;34m:\u001b[0m\u001b[0;34m\u001b[0m\u001b[0;34m\u001b[0m\u001b[0m\n\u001b[0;32m----> 3\u001b[0;31m         \u001b[0;32mfor\u001b[0m \u001b[0mline\u001b[0m \u001b[0;32min\u001b[0m \u001b[0mrf\u001b[0m\u001b[0;34m:\u001b[0m\u001b[0;34m\u001b[0m\u001b[0;34m\u001b[0m\u001b[0m\n\u001b[0m\u001b[1;32m      4\u001b[0m             \u001b[0mwf\u001b[0m\u001b[0;34m.\u001b[0m\u001b[0mwrite\u001b[0m\u001b[0;34m(\u001b[0m\u001b[0mline\u001b[0m\u001b[0;34m)\u001b[0m\u001b[0;34m\u001b[0m\u001b[0;34m\u001b[0m\u001b[0m\n",
      "\u001b[0;32m/opt/anaconda3/lib/python3.8/codecs.py\u001b[0m in \u001b[0;36mdecode\u001b[0;34m(self, input, final)\u001b[0m\n\u001b[1;32m    320\u001b[0m         \u001b[0;31m# decode input (taking the buffer into account)\u001b[0m\u001b[0;34m\u001b[0m\u001b[0;34m\u001b[0m\u001b[0;34m\u001b[0m\u001b[0m\n\u001b[1;32m    321\u001b[0m         \u001b[0mdata\u001b[0m \u001b[0;34m=\u001b[0m \u001b[0mself\u001b[0m\u001b[0;34m.\u001b[0m\u001b[0mbuffer\u001b[0m \u001b[0;34m+\u001b[0m \u001b[0minput\u001b[0m\u001b[0;34m\u001b[0m\u001b[0;34m\u001b[0m\u001b[0m\n\u001b[0;32m--> 322\u001b[0;31m         \u001b[0;34m(\u001b[0m\u001b[0mresult\u001b[0m\u001b[0;34m,\u001b[0m \u001b[0mconsumed\u001b[0m\u001b[0;34m)\u001b[0m \u001b[0;34m=\u001b[0m \u001b[0mself\u001b[0m\u001b[0;34m.\u001b[0m\u001b[0m_buffer_decode\u001b[0m\u001b[0;34m(\u001b[0m\u001b[0mdata\u001b[0m\u001b[0;34m,\u001b[0m \u001b[0mself\u001b[0m\u001b[0;34m.\u001b[0m\u001b[0merrors\u001b[0m\u001b[0;34m,\u001b[0m \u001b[0mfinal\u001b[0m\u001b[0;34m)\u001b[0m\u001b[0;34m\u001b[0m\u001b[0;34m\u001b[0m\u001b[0m\n\u001b[0m\u001b[1;32m    323\u001b[0m         \u001b[0;31m# keep undecoded input until the next call\u001b[0m\u001b[0;34m\u001b[0m\u001b[0;34m\u001b[0m\u001b[0;34m\u001b[0m\u001b[0m\n\u001b[1;32m    324\u001b[0m         \u001b[0mself\u001b[0m\u001b[0;34m.\u001b[0m\u001b[0mbuffer\u001b[0m \u001b[0;34m=\u001b[0m \u001b[0mdata\u001b[0m\u001b[0;34m[\u001b[0m\u001b[0mconsumed\u001b[0m\u001b[0;34m:\u001b[0m\u001b[0;34m]\u001b[0m\u001b[0;34m\u001b[0m\u001b[0;34m\u001b[0m\u001b[0m\n",
      "\u001b[0;31mUnicodeDecodeError\u001b[0m: 'utf-8' codec can't decode byte 0xff in position 0: invalid start byte"
     ]
    }
   ],
   "source": [
    "with open(\"F5B7FC92-2E94-43ED-BBC7-984623249946.jpeg\", \"r\") as rf:\n",
    "    with open(\"F5B7FC92-2E94-43ED-BBC7-984623249946_copy.jpeg\", \"w\") as wf:\n",
    "        for line in rf:\n",
    "            wf.write(line)"
   ]
  },
  {
   "cell_type": "code",
   "execution_count": 59,
   "id": "5b5e4967",
   "metadata": {},
   "outputs": [],
   "source": [
    "with open(\"F5B7FC92-2E94-43ED-BBC7-984623249946.jpeg\", \"rb\") as rf:\n",
    "    with open(\"F5B7FC92-2E94-43ED-BBC7-984623249946_copy.jpeg\", \"wb\") as wf:\n",
    "        for line in rf:\n",
    "            wf.write(line)"
   ]
  },
  {
   "cell_type": "code",
   "execution_count": 60,
   "id": "d4cb6886",
   "metadata": {},
   "outputs": [],
   "source": [
    "with open(\"F5B7FC92-2E94-43ED-BBC7-984623249946.jpeg\", \"rb\") as rf:\n",
    "    with open(\"F5B7FC92-2E94-43ED-BBC7-984623249946_copy.jpeg\", \"wb\") as wf:\n",
    "        chunk_size = 4096\n",
    "        rf_chunk = rf.read(chunk_size)\n",
    "        while len(rf_chunk) > 0:\n",
    "            wf.write(rf_chunk)\n",
    "            rf_chunk = rf.read(chunk_size)"
   ]
  },
  {
   "cell_type": "code",
   "execution_count": null,
   "id": "27380fe9",
   "metadata": {},
   "outputs": [],
   "source": []
  }
 ],
 "metadata": {
  "kernelspec": {
   "display_name": "Python 3",
   "language": "python",
   "name": "python3"
  },
  "language_info": {
   "codemirror_mode": {
    "name": "ipython",
    "version": 3
   },
   "file_extension": ".py",
   "mimetype": "text/x-python",
   "name": "python",
   "nbconvert_exporter": "python",
   "pygments_lexer": "ipython3",
   "version": "3.8.8"
  }
 },
 "nbformat": 4,
 "nbformat_minor": 5
}
